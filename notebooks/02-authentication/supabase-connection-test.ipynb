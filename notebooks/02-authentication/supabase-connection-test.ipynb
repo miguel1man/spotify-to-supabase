{
 "cells": [
  {
   "cell_type": "markdown",
   "metadata": {},
   "source": [
    "## 🧪 Verificación de Conexión con Supabase\n",
    "\n",
    "Este notebook prueba la conexión con Supabase utilizando las credenciales definidas en el archivo `.env`."
   ]
  },
  {
   "cell_type": "code",
   "execution_count": null,
   "metadata": {},
   "outputs": [],
   "source": [
    "import os\n",
    "from dotenv import load_dotenv\n",
    "from supabase import create_client, Client\n",
    "\n",
    "# Cargar variables desde el archivo .env que está en la raíz del proyecto\n",
    "dotenv_path = os.path.join(os.getcwd(), '../../.env')\n",
    "load_dotenv(dotenv_path=dotenv_path)\n",
    "\n",
    "supabase_url = os.environ.get(\"SUPABASE_URL\")\n",
    "# Usamos la service_role key para tener permisos de administrador\n",
    "supabase_key = os.environ.get(\"SUPABASE_SERVICE_KEY\")\n",
    "\n",
    "if not supabase_url or not supabase_key:\n",
    "    print(\"❌ Faltan las variables SUPABASE_URL o SUPABASE_SERVICE_KEY en tu archivo .env\")\n",
    "else:\n",
    "    print(f\"✅ Variables de Supabase encontradas. Intentando conectar a: {supabase_url[:25]}...\")"
   ]
  },
  {
   "cell_type": "code",
   "execution_count": null,
   "metadata": {},
   "outputs": [],
   "source": [
    "try:\n",
    "    supabase: Client = create_client(supabase_url, supabase_key)\n",
    "    print(\"✅ Cliente de Supabase creado exitosamente.\")\n",
    "    \n",
    "    # Una prueba simple: intentar obtener la lista de esquemas o alguna información\n",
    "    # Aquí listamos las tablas del esquema 'public' para confirmar la conexión\n",
    "    response = supabase.table(\"saved_tracks\").select(\"*\", count=\"exact\").limit(0).execute()\n",
    "    \n",
    "    print(\"✅ Conexión con Supabase verificada exitosamente.\")\n",
    "    print(\"La API pudo consultar la tabla 'saved_tracks'. Esto confirma que la URL, la clave y los permisos RLS son correctos.\")\n",
    "    \n",
    "except Exception as e:\n",
    "    print(f\"❌ Error al conectar o consultar Supabase: {e}\")\n",
    "    print(\"Por favor, verifica lo siguiente:\")\n",
    "    print(\"1. Que las variables SUPABASE_URL y SUPABASE_SERVICE_KEY en tu .env son correctas.\")\n",
    "    print(\"2. Que has ejecutado los scripts SQL para crear las tablas (especialmente 'saved_tracks').\")\n",
    "    print(\"3. Que la política RLS para el rol 'service_role' está habilitada en la tabla.\")"
   ]
  }
 ],
 "metadata": {
  "kernelspec": {
   "display_name": "Python 3",
   "language": "python",
   "name": "python3"
  },
  "language_info": {
   "name": "python"
  }
 },
 "nbformat": 4,
 "nbformat_minor": 2
}
