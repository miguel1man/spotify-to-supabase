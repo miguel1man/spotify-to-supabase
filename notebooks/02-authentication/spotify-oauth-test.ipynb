{
 "cells": [
  {
   "cell_type": "markdown",
   "metadata": {},
   "source": [
    "## 🧪 Verificación de Autenticación OAuth2 con Spotify\n",
    "\n",
    "Este notebook te guía a través del flujo de **Authorization Code** de Spotify para obtener un token de acceso de forma manual."
   ]
  },
  {
   "cell_type": "markdown",
   "metadata": {},
   "source": [
    "### Paso 1: Cargar Credenciales y Generar URL de Autorización"
   ]
  },
  {
   "cell_type": "code",
   "execution_count": null,
   "metadata": {},
   "outputs": [],
   "source": [
    "import os\n",
    "import httpx\n",
    "import base64\n",
    "from dotenv import load_dotenv\n",
    "from urllib.parse import urlencode\n",
    "\n",
    "# Cargar variables desde el archivo .env\n",
    "dotenv_path = os.path.join(os.getcwd(), '../../.env')\n",
    "load_dotenv(dotenv_path=dotenv_path)\n",
    "\n",
    "client_id = os.environ.get(\"SPOTIFY_CLIENT_ID\")\n",
    "client_secret = os.environ.get(\"SPOTIFY_CLIENT_SECRET\")\n",
    "redirect_uri = os.environ.get(\"SPOTIFY_REDIRECT_URI\")\n",
    "\n",
    "if not all([client_id, client_secret, redirect_uri]):\n",
    "    print(\"❌ Faltan una o más variables de Spotify (SPOTIFY_CLIENT_ID, SPOTIFY_CLIENT_SECRET, SPOTIFY_REDIRECT_URI) en tu .env\")\n",
    "else:\n",
    "    print(\"✅ Credenciales de Spotify cargadas.\")\n",
    "    \n",
    "    # Definir el scope (qué permisos solicitamos)\n",
    "    scope = 'user-library-read'\n",
    "    \n",
    "    # Construir la URL de autorización\n",
    "    auth_params = {\n",
    "        'client_id': client_id,\n",
    "        'response_type': 'code',\n",
    "        'redirect_uri': redirect_uri,\n",
    "        'scope': scope,\n",
    "    }\n",
    "    auth_url = f\"https://accounts.spotify.com/authorize?{urlencode(auth_params)}\"\n",
    "    \n",
    "    print(\"PASO SIGUIENTE: Copia la siguiente URL, pégala en tu navegador y autoriza la aplicación.\")\n",
    "    print(\"Después de autorizar, serás redirigido a una URL que podría dar un error (es normal). Copia el valor del parámetro 'code' de esa URL.\")\n",
    "    print(\"Ejemplo: http://127.0.0.1:8000/callback?code=AQUI_ESTA_EL_CODIGO_QUE_NECESITAS\")\n",
    "    print(\"---\")\n",
    "    print(f\"{auth_url}\")\n",
    "    print(\"---\")"
   ]
  },
  {
   "cell_type": "markdown",
   "metadata": {},
   "source": [
    "### Paso 2: Intercambiar el Código de Autorización por un Token de Acceso\n",
    "\n",
    "Pega el código que obtuviste del navegador en la siguiente celda y ejecútala."
   ]
  },
  {
   "cell_type": "code",
   "execution_count": null,
   "metadata": {},
   "outputs": [],
   "source": [
    "# Pega aquí el código que copiaste del navegador\n",
    "auth_code = \"...\"\n",
    "\n",
    "if not auth_code:\n",
    "    print(\"No se ha introducido ningún código.\")\n",
    "else:\n",
    "    print(\"Código recibido. Solicitando token de acceso...\")\n",
    "    \n",
    "    token_url = 'https://accounts.spotify.com/api/token'\n",
    "    \n",
    "    # Spotify requiere que el client_id y client_secret estén en la cabecera Authorization, codificados en Base64\n",
    "    auth_header = base64.b64encode(f\"{client_id}:{client_secret}\".encode()).decode()\n",
    "    \n",
    "    headers = {\n",
    "        'Authorization': f'Basic {auth_header}',\n",
    "        'Content-Type': 'application/x-www-form-urlencoded',\n",
    "    }\n",
    "    \n",
    "    data = {\n",
    "        'grant_type': 'authorization_code',\n",
    "        'code': auth_code,\n",
    "        'redirect_uri': redirect_uri,\n",
    "    }\n",
    "    \n",
    "    try:\n",
    "        with httpx.Client() as client:\n",
    "            response = client.post(token_url, headers=headers, data=data)\n",
    "            response.raise_for_status() # Lanza una excepción si la respuesta es un error HTTP (4xx o 5xx)\n",
    "            \n",
    "            token_data = response.json()\n",
    "            access_token = token_data.get('access_token')\n",
    "            refresh_token = token_data.get('refresh_token')\n",
    "            expires_in = token_data.get('expires_in')\n",
    "            \n",
    "            print(\"✅ ¡Autenticación completada exitosamente!\")\n",
    "            print(f\"Access Token (primeros 15 caracteres): {access_token[:15]}...\")\n",
    "            print(f\"Refresh Token (primeros 15 caracteres): {refresh_token[:15]}...\")\n",
    "            print(f\"Expira en: {expires_in} segundos\")\n",
    "            \n",
    "    except httpx.HTTPStatusError as e:\n",
    "        print(f\"❌ Error en la solicitud HTTP: {e}\")\n",
    "        print(f\"Respuesta del servidor: {e.response.text}\")\n",
    "        print(\"Verifica que el 'auth_code' sea correcto y no haya expirado, y que el REDIRECT_URI en tu .env coincida con el configurado en Spotify Developer Dashboard.\")\n",
    "    except Exception as e:\n",
    "        print(f\"❌ Ocurrió un error inesperado: {e}\")"
   ]
  }
 ],
 "metadata": {
  "kernelspec": {
   "display_name": "spotify-supabase-tracker",
   "language": "python",
   "name": "python3"
  },
  "language_info": {
   "codemirror_mode": {
    "name": "ipython",
    "version": 3
   },
   "file_extension": ".py",
   "mimetype": "text/x-python",
   "name": "python",
   "nbconvert_exporter": "python",
   "pygments_lexer": "ipython3",
   "version": "3.12.3"
  }
 },
 "nbformat": 4,
 "nbformat_minor": 2
}
