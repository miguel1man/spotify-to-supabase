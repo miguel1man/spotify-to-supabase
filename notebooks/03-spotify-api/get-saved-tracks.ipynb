{
 "cells": [
  {
   "cell_type": "markdown",
   "metadata": {},
   "source": [
    "# 🎵 Obtener Canciones Guardadas de Spotify\n",
    "\n",
    "Este notebook combina el flujo de autenticación de Spotify con la obtención de canciones guardadas en un solo lugar.\n",
    "\n",
    "**Pasos:**\n",
    "1. Generar una URL de autorización.\n",
    "2. Intercambiar el código de autorización por un token de acceso.\n",
    "3. Usar el token para obtener las canciones guardadas del usuario."
   ]
  },
  {
   "cell_type": "markdown",
   "metadata": {},
   "source": [
    "## Paso 1: Cargar Credenciales y Generar URL de Autorización"
   ]
  },
  {
   "cell_type": "code",
   "execution_count": null,
   "metadata": {},
   "outputs": [],
   "source": [
    "import os\n",
    "import httpx\n",
    "import base64\n",
    "from dotenv import load_dotenv\n",
    "from urllib.parse import urlencode\n",
    "\n",
    "# Cargar variables desde el archivo .env\n",
    "dotenv_path = os.path.join(os.getcwd(), '../../.env')\n",
    "load_dotenv(dotenv_path=dotenv_path)\n",
    "\n",
    "client_id = os.environ.get(\"SPOTIFY_CLIENT_ID\")\n",
    "client_secret = os.environ.get(\"SPOTIFY_CLIENT_SECRET\")\n",
    "redirect_uri = os.environ.get(\"SPOTIFY_REDIRECT_URI\")\n",
    "\n",
    "if not all([client_id, client_secret, redirect_uri]):\n",
    "    print(\"❌ Faltan una o más variables de Spotify (SPOTIFY_CLIENT_ID, SPOTIFY_CLIENT_SECRET, SPOTIFY_REDIRECT_URI) en tu .env\")\n",
    "else:\n",
    "    print(\"✅ Credenciales de Spotify cargadas.\")\n",
    "    \n",
    "    # Definir el scope (qué permisos solicitamos)\n",
    "    scope = 'user-library-read'\n",
    "    \n",
    "    # Construir la URL de autorización\n",
    "    auth_params = {\n",
    "        'client_id': client_id,\n",
    "        'response_type': 'code',\n",
    "        'redirect_uri': redirect_uri,\n",
    "        'scope': scope,\n",
    "    }\n",
    "    auth_url = f\"https://accounts.spotify.com/authorize?{urlencode(auth_params)}\"\n",
    "    \n",
    "    print(\"PASO SIGUIENTE: Copia la siguiente URL, pégala en tu navegador y autoriza la aplicación.\")\n",
    "    print(\"Después de autorizar, serás redirigido a una URL que podría dar un error (es normal). Copia el valor del parámetro 'code' de esa URL.\")\n",
    "    print(\"Ejemplo: http://127.0.0.1:8000/callback?code=AQUI_ESTA_EL_CODIGO_QUE_NECESITAS\")\n",
    "    print(\"---\")\n",
    "    print(f\"{auth_url}\")\n",
    "    print(\"---\")"
   ]
  },
  {
   "cell_type": "markdown",
   "metadata": {},
   "source": [
    "## Paso 2: Intercambiar el Código de Autorización por un Token de Acceso\n",
    "\n",
    "Pega el código que obtuviste del navegador en la siguiente celda y ejecútala."
   ]
  },
  {
   "cell_type": "code",
   "execution_count": null,
   "metadata": {},
   "outputs": [],
   "source": [
    "# Pega aquí el código que copiaste del navegador\n",
    "auth_code = \"\"\n",
    "\n",
    "access_token = None\n",
    "if not auth_code:\n",
    "    print(\"No se ha introducido ningún código. Pega el código de autorización en la variable 'auth_code' y vuelve a ejecutar.\")\n",
    "else:\n",
    "    print(\"Código recibido. Solicitando token de acceso...\")\n",
    "    \n",
    "    token_url = 'https://accounts.spotify.com/api/token'\n",
    "    \n",
    "    # Spotify requiere que el client_id y client_secret estén en la cabecera Authorization, codificados en Base64\n",
    "    auth_header = base64.b64encode(f\"{client_id}:{client_secret}\".encode()).decode()\n",
    "    \n",
    "    headers = {\n",
    "        'Authorization': f'Basic {auth_header}',\n",
    "        'Content-Type': 'application/x-www-form-urlencoded',\n",
    "    }\n",
    "    \n",
    "    data = {\n",
    "        'grant_type': 'authorization_code',\n",
    "        'code': auth_code,\n",
    "        'redirect_uri': redirect_uri,\n",
    "    }\n",
    "    \n",
    "    try:\n",
    "        with httpx.Client() as client:\n",
    "            response = client.post(token_url, headers=headers, data=data)\n",
    "            response.raise_for_status() # Lanza una excepción si la respuesta es un error HTTP (4xx o 5xx)\n",
    "            \n",
    "            token_data = response.json()\n",
    "            access_token = token_data.get('access_token')\n",
    "            \n",
    "            if access_token:\n",
    "                print(\"✅ ¡Autenticación completada exitosamente!\")\n",
    "                print(f\"Access Token (primeros 15 caracteres): {access_token[:15]}...\")\n",
    "            else:\n",
    "                print(\"❌ No se pudo obtener el token de acceso.\")\n",
    "            \n",
    "    except httpx.HTTPStatusError as e:\n",
    "        print(f\"❌ Error en la solicitud HTTP: {e}\")\n",
    "        print(f\"Respuesta del servidor: {e.response.text}\")\n",
    "        print(\"Verifica que el 'auth_code' sea correcto y no haya expirado, y que el REDIRECT_URI en tu .env coincida con el configurado en Spotify Developer Dashboard.\")\n",
    "    except Exception as e:\n",
    "        print(f\"❌ Ocurrió un error inesperado: {e}\")"
   ]
  },
  {
   "cell_type": "markdown",
   "metadata": {},
   "source": [
    "## Paso 3: Realizar la Petición para Obtener Canciones Guardadas\n",
    "\n",
    "Con el token de acceso, construiremos la petición al endpoint `v1/me/tracks`."
   ]
  },
  {
   "cell_type": "code",
   "execution_count": null,
   "metadata": {},
   "outputs": [],
   "source": [
    "if access_token:\n",
    "    BASE_URL = 'https://api.spotify.com/v1/me/tracks'\n",
    "    \n",
    "    # Parámetros de la petición\n",
    "    params = {\n",
    "        'limit': 10,\n",
    "        'offset': 10,\n",
    "        'market': 'ES'\n",
    "    }\n",
    "    \n",
    "    # Cabeceras con el token de autorización\n",
    "    headers = {\n",
    "        'Authorization': f'Bearer {access_token}'\n",
    "    }\n",
    "    \n",
    "    # Realizar la petición GET\n",
    "    response = httpx.get(BASE_URL, headers=headers, params=params)\n",
    "    \n",
    "    # Verificar si la petición fue exitosa\n",
    "    if response.status_code == 200:\n",
    "        print(\"✅ Petición de canciones exitosa! (Código 200)\")\n",
    "        saved_tracks_data = response.json()\n",
    "    else:\n",
    "        print(f\"❌ Error en la petición de canciones: {response.status_code}\")\n",
    "        print(response.json())\n",
    "else:\n",
    "    print(\"No hay token de acceso disponible. Completa los pasos anteriores.\")"
   ]
  },
  {
   "cell_type": "markdown",
   "metadata": {},
   "source": [
    "## Paso 4: Analizar la Respuesta"
   ]
  },
  {
   "cell_type": "code",
   "execution_count": null,
   "metadata": {},
   "outputs": [],
   "source": [
    "if 'saved_tracks_data' in locals():\n",
    "    # Imprimir información de paginación\n",
    "    print(f\"Total de canciones guardadas: {saved_tracks_data['total']}\")\n",
    "    print(f\"Límite por página: {saved_tracks_data['limit']}\")\n",
    "    print(f\"Offset actual: {saved_tracks_data['offset']}\")\n",
    "    print(f\"URL siguiente página: {saved_tracks_data['next']}\")\n",
    "    print(\"---\")\n",
    "    \n",
    "    # Extraer y mostrar las canciones\n",
    "    tracks = saved_tracks_data['items']\n",
    "    \n",
    "    if tracks:\n",
    "        print(f\"Mostrando {len(tracks)} canciones (del índice {saved_tracks_data['offset'] + 1} al {saved_tracks_data['offset'] + len(tracks)}):\")\n",
    "        for i, item in enumerate(tracks):\n",
    "            track = item['track']\n",
    "            artist_names = ', '.join([artist['name'] for artist in track['artists']])\n",
    "            print(f\"{saved_tracks_data['offset'] + i + 1}. {track['name']} - {artist_names}\")\n",
    "    else:\n",
    "        print(\"No se encontraron canciones en este rango (offset/limit). Intenta con otros valores.\")"
   ]
  }
 ],
 "metadata": {
  "kernelspec": {
   "display_name": "spotify-supabase-tracker",
   "language": "python",
   "name": "python3"
  },
  "language_info": {
   "codemirror_mode": {
    "name": "ipython",
    "version": 3
   },
   "file_extension": ".py",
   "mimetype": "text/x-python",
   "name": "python",
   "nbconvert_exporter": "python",
   "pygments_lexer": "ipython3",
   "version": "3.12.3"
  }
 },
 "nbformat": 4,
 "nbformat_minor": 4
}
