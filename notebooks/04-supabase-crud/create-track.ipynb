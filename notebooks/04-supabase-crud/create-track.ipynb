{
 "cells": [
  {
   "cell_type": "markdown",
   "metadata": {},
   "source": [
    "## 🧪 Pruebas CRUD en Supabase\n",
    "\n",
    "Este notebook verifica las operaciones CRUD (Crear, Leer, Actualizar, Eliminar) en una tabla de prueba en Supabase.\n",
    "\n",
    "**Objetivo:** Validar que las credenciales (`SUPABASE_URL` y `SUPABASE_SERVICE_KEY`) son correctas y que podemos realizar operaciones básicas en la base de datos."
   ]
  },
  {
   "cell_type": "markdown",
   "metadata": {},
   "source": [
    "### ⚠️ Paso 1: Crear la Tabla de Prueba en Supabase\n",
    "\n",
    "La librería cliente de Supabase no puede crear tablas. Debes hacerlo desde el editor SQL en tu panel de Supabase.\n",
    "\n",
    "**Copia y ejecuta el siguiente código SQL en tu editor de Supabase una sola vez:**\n",
    "\n",
    "```sql\n",
    "-- Crea la tabla para las pruebas CRUD\n",
    "CREATE TABLE IF NOT EXISTS test_items (\n",
    "    id SERIAL PRIMARY KEY,\n",
    "    name TEXT NOT NULL,\n",
    "    created_at TIMESTAMPTZ DEFAULT NOW()\n",
    ");\n",
    "\n",
    "-- Asegúrate de que el rol 'service_role' (usado por este notebook) tenga acceso total\n",
    "ALTER TABLE test_items ENABLE ROW LEVEL SECURITY;\n",
    "DROP POLICY IF EXISTS \"Allow full access to service role\" ON test_items;\n",
    "CREATE POLICY \"Allow full access to service role\" ON test_items FOR ALL\n",
    "TO service_role\n",
    "USING (true)\n",
    "WITH CHECK (true);\n",
    "```\n",
    "\n",
    "Una vez creada, puedes continuar con las celdas de este notebook."
   ]
  },
  {
   "cell_type": "code",
   "execution_count": null,
   "metadata": {},
   "outputs": [],
   "source": [
    "import os\n",
    "import sys\n",
    "from dotenv import load_dotenv\n",
    "from supabase import create_client, Client\n",
    "\n",
    "# Cargar variables de entorno desde la raíz del proyecto\n",
    "project_root = os.path.abspath(os.path.join(os.getcwd(), '../..'))\n",
    "dotenv_path = os.path.join(project_root, '.env')\n",
    "load_dotenv(dotenv_path=dotenv_path)\n",
    "\n",
    "supabase_url = os.environ.get(\"SUPABASE_URL\")\n",
    "supabase_key = os.environ.get(\"SUPABASE_SERVICE_KEY\")\n",
    "\n",
    "if not supabase_url or not supabase_key:\n",
    "    print(\"❌ Faltan las variables SUPABASE_URL o SUPABASE_SERVICE_KEY.\")\n",
    "else:\n",
    "    print(f\"✅ Variables de entorno cargadas. Conectando a: {supabase_url[:25]}...\")"
   ]
  },
  {
   "cell_type": "code",
   "execution_count": null,
   "metadata": {},
   "outputs": [],
   "source": [
    "supabase_client: Client | None = None\n",
    "try:\n",
    "    supabase_client: Client = create_client(supabase_url, supabase_key)\n",
    "    print(\"✅ Cliente de Supabase creado.\")\n",
    "except Exception as e:\n",
    "    print(f\"❌ Error al crear el cliente de Supabase: {e}\")"
   ]
  },
  {
   "cell_type": "markdown",
   "metadata": {},
   "source": [
    "### 2. Crear (Insertar) un Item de Prueba"
   ]
  },
  {
   "cell_type": "code",
   "execution_count": null,
   "metadata": {},
   "outputs": [],
   "source": [
    "import uuid\n",
    "\n",
    "# Usaremos un nombre único para nuestro item de prueba\n",
    "test_item_name = f\"Test Item {uuid.uuid4()}\"\n",
    "item_data = {\"name\": test_item_name}\n",
    "\n",
    "print(f\"📋 Datos de prueba listos: {item_data}\")"
   ]
  },
  {
   "cell_type": "code",
   "execution_count": null,
   "metadata": {},
   "outputs": [],
   "source": [
    "inserted_id = None\n",
    "if supabase_client:\n",
    "    try:\n",
    "        # Insertar los datos en la tabla 'test_items'\n",
    "        data, count = supabase_client.table('test_items').insert(item_data).execute()\n",
    "        \n",
    "        inserted_record = data[1][0]\n",
    "        inserted_id = inserted_record['id']\n",
    "        \n",
    "        print(f\"✅ Item insertado correctamente con ID: {inserted_id}\")\n",
    "    except Exception as e:\n",
    "        print(f\"❌ Error al insertar el item: {e}\")\n",
    "        print(\"---\")\n",
    "        print(\"POSIBLES CAUSAS:\")\n",
    "        print(\"1. ¿Ejecutaste el script SQL del Paso 1 para crear la tabla 'test_items'?\")\n",
    "        print(\"2. ¿Son correctas las credenciales en tu archivo .env?\")\n",
    "else:\n",
    "    print(\"⏩ No se pudo crear el cliente de Supabase. Revisa los errores en celdas anteriores.\")"
   ]
  },
  {
   "cell_type": "markdown",
   "metadata": {},
   "source": [
    "### 3. Leer (Seleccionar) el Item"
   ]
  },
  {
   "cell_type": "code",
   "execution_count": null,
   "metadata": {},
   "outputs": [],
   "source": [
    "if inserted_id and supabase_client:\n",
    "    try:\n",
    "        data, count = supabase_client.table('test_items').select('*').eq('id', inserted_id).execute()\n",
    "        \n",
    "        if data[1]:\n",
    "            retrieved_record = data[1][0]\n",
    "            print(\"✅ Item encontrado en la base de datos:\")\n",
    "            print(f\"- ID: {retrieved_record['id']}\")\n",
    "            print(f\"- Nombre: {retrieved_record['name']}\")\n",
    "            assert retrieved_record['name'] == test_item_name\n",
    "        else:\n",
    "            print(f\"❌ No se encontró el item con ID {inserted_id} que acabamos de insertar.\")\n",
    "    except Exception as e:\n",
    "        print(f\"❌ Error al leer el item: {e}\")\n",
    "else:\n",
    "    print(\"⏩ Se omite la lectura porque no se pudo insertar el item previamente.\")"
   ]
  },
  {
   "cell_type": "markdown",
   "metadata": {},
   "source": [
    "### 4. Eliminar el Item de Prueba"
   ]
  },
  {
   "cell_type": "code",
   "execution_count": null,
   "metadata": {},
   "outputs": [],
   "source": [
    "if inserted_id and supabase_client:\n",
    "    try:\n",
    "        data, count = supabase_client.table('test_items').delete().eq('id', inserted_id).execute()\n",
    "        \n",
    "        if data[1]:\n",
    "            print(f\"✅ Item con ID {inserted_id} eliminado correctamente.\")\n",
    "        else:\n",
    "            print(f\"❌ No se pudo eliminar el item con ID {inserted_id}.\")\n",
    "    except Exception as e:\n",
    "        print(f\"❌ Error al eliminar el item: {e}\")\n",
    "else:\n",
    "    print(\"⏩ Se omite la eliminación porque no se pudo insertar el item previamente.\")"
   ]
  }
 ],
 "metadata": {
  "kernelspec": {
   "display_name": "spotify-supabase-tracker",
   "language": "python",
   "name": "python3"
  },
  "language_info": {
   "codemirror_mode": {
    "name": "ipython",
    "version": 3
   },
   "file_extension": ".py",
   "mimetype": "text/x-python",
   "name": "python",
   "nbconvert_exporter": "python",
   "pygments_lexer": "ipython3",
   "version": "3.12.3"
  }
 },
 "nbformat": 4,
 "nbformat_minor": 2
}
