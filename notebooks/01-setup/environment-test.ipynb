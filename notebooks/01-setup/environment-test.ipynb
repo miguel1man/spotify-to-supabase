{
 "cells": [
  {
   "cell_type": "markdown",
   "metadata": {},
   "source": [
    "## 🧪 Verificación del Entorno de Desarrollo\n",
    "\n",
    "Este notebook verifica que todas las dependencias principales se hayan instalado correctamente y sean importables en el entorno virtual."
   ]
  },
  {
   "cell_type": "code",
   "execution_count": null,
   "metadata": {},
   "outputs": [],
   "source": [
    "import os\n",
    "import sys\n",
    "\n",
    "print(f\"Versión de Python: {sys.version}\")\n",
    "\n",
    "try:\n",
    "    import fastapi\n",
    "    import pydantic\n",
    "    import supabase\n",
    "    import pandas as pd\n",
    "    \n",
    "    print(\"✅ Todas las dependencias principales se importaron correctamente.\")\n",
    "    print(f\"- FastAPI version: {fastapi.__version__}\")\n",
    "    print(f\"- Pydantic version: {pydantic.__version__}\")\n",
    "    print(f\"- Supabase client version: {supabase.__version__}\")\n",
    "    print(f\"- Pandas version: {pd.__version__}\")\n",
    "    \n",
    "except ImportError as e:\n",
    "    print(f\"❌ Error al importar una dependencia: {e}\")\n",
    "    print(\"Asegúrate de haber activado el entorno virtual correcto (`source .venv/bin/activate`) y haber ejecutado `uv sync`.\")"
   ]
  },
  {
   "cell_type": "markdown",
   "metadata": {},
   "source": [
    "### Verificación de Variables de Entorno\n",
    "\n",
    "El siguiente paso comprueba si el archivo `.env` existe. Aunque no cargaremos las variables aquí, su existencia es crucial para el funcionamiento de la aplicación."
   ]
  },
  {
   "cell_type": "code",
   "execution_count": null,
   "metadata": {},
   "outputs": [],
   "source": [
    "# Since the notebook is in notebooks/01-setup, the .env file is two levels up\n",
    "dotenv_path = os.path.join(os.getcwd(), '../../.env')\n",
    "\n",
    "if os.path.exists(dotenv_path):\n",
    "    print(\"✅ Archivo .env encontrado en la ruta correcta.\")\n",
    "    print(\"Recuerda llenarlo con tus credenciales de Spotify y Supabase.\")\n",
    "else:\n",
    "    print(f\"❌ Archivo .env no encontrado en {os.path.abspath(dotenv_path)}\")\n",
    "    print(\"Por favor, crea un archivo `.env` a partir de `.env.example` en la raíz del proyecto.\")"
   ]
  }
 ],
 "metadata": {
  "kernelspec": {
   "display_name": "Python 3",
   "language": "python",
   "name": "python3"
  },
  "language_info": {
   "name": "python",
   "version": "3.12.3"
  }
 },
 "nbformat": 4,
 "nbformat_minor": 2
}
